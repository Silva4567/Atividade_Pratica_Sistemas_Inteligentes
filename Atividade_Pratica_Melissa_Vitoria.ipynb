{
  "nbformat": 4,
  "nbformat_minor": 0,
  "metadata": {
    "colab": {
      "provenance": []
    },
    "kernelspec": {
      "name": "python3",
      "display_name": "Python 3"
    },
    "language_info": {
      "name": "python"
    }
  },
  "cells": [
    {
      "cell_type": "markdown",
      "source": [
        "Preparando dados"
      ],
      "metadata": {
        "id": "ubhVrw8TfFx6"
      }
    },
    {
      "cell_type": "code",
      "execution_count": 16,
      "metadata": {
        "colab": {
          "base_uri": "https://localhost:8080/"
        },
        "id": "orVQ3aZAOKDv",
        "outputId": "22a8912d-e059-4cb2-c049-183258e4b5bd"
      },
      "outputs": [
        {
          "output_type": "stream",
          "name": "stderr",
          "text": [
            "<ipython-input-16-c4d01a6445c4>:13: SettingWithCopyWarning: \n",
            "A value is trying to be set on a copy of a slice from a DataFrame.\n",
            "Try using .loc[row_indexer,col_indexer] = value instead\n",
            "\n",
            "See the caveats in the documentation: https://pandas.pydata.org/pandas-docs/stable/user_guide/indexing.html#returning-a-view-versus-a-copy\n",
            "  X['Sex']= X['Sex'].map({'male': 0, 'female':1})\n"
          ]
        }
      ],
      "source": [
        "# prompt: leia o arquivo titanic.csv\n",
        "\n",
        "import pandas as pd\n",
        "from sklearn.model_selection import train_test_split\n",
        "\n",
        "df = pd.read_csv('titanic.csv')\n",
        "\n",
        "df.head()\n",
        "\n",
        "features = ['Pclass', 'Sex','Age','Fare','SibSp','Parch']\n",
        "\n",
        "X = df[features] #selecionando os tributos\n",
        "X['Sex']= X['Sex'].map({'male': 0, 'female':1})\n",
        "\n",
        "y = df['Survived']\n",
        "\n",
        "X = X.fillna(X.mean()) #trocando dados corrompidos pela média da coluna\n",
        "\n",
        "X_train, X_test, y_train, y_test = train_test_split(X, y, test_size=0.2, random_state=42)\n",
        "\n",
        "\n",
        "\n",
        "\n"
      ]
    },
    {
      "cell_type": "markdown",
      "source": [
        "Classificador Àrvore de Decisão"
      ],
      "metadata": {
        "id": "8DDSOY60mfjJ"
      }
    },
    {
      "cell_type": "code",
      "source": [
        "from sklearn.tree import DecisionTreeClassifier\n",
        "from sklearn.tree import export_text\n",
        "from sklearn.metrics import accuracy_score\n",
        "\n",
        "#criando o classificador\n",
        "decision_tree_classifier = DecisionTreeClassifier()\n",
        "\n",
        "decision_tree_classifier.fit(X_train, y_train)\n",
        "\n",
        "tree_rules = export_text(decision_tree_classifier, feature_names= features )\n",
        "\n",
        "#print(tree_rules)\n",
        "\n",
        "predictions = decision_tree_classifier.predict(X_test)\n",
        "\n",
        "accuracy = accuracy_score(y_test, predictions)\n",
        "print(\"Precisão:\", accuracy)"
      ],
      "metadata": {
        "colab": {
          "base_uri": "https://localhost:8080/"
        },
        "id": "lIferKo_vJUr",
        "outputId": "8e904846-3486-4b00-e787-c3b015f9a345"
      },
      "execution_count": 17,
      "outputs": [
        {
          "output_type": "stream",
          "name": "stdout",
          "text": [
            "Precisão: 0.7597765363128491\n"
          ]
        }
      ]
    },
    {
      "cell_type": "code",
      "source": [
        "from sklearn.neural_network import MLPClassifier\n",
        "from sklearn.metrics import accuracy_score\n",
        "\n",
        "mlp = MLPClassifier(hidden_layer_sizes=(10,5), max_iter=1000, random_state=42)\n",
        "\n",
        "mlp.fit(X_train, y_train)\n",
        "\n",
        "predictions = mlp.predict(X_test)\n",
        "\n",
        "accuracy = accuracy_score(y_test, predictions)\n",
        "print(\"Precisão:\", accuracy)\n",
        "\n"
      ],
      "metadata": {
        "colab": {
          "base_uri": "https://localhost:8080/"
        },
        "id": "_S0BDffxvd9h",
        "outputId": "a807a73d-44a3-4769-e46f-e66df3f2e0df"
      },
      "execution_count": 19,
      "outputs": [
        {
          "output_type": "stream",
          "name": "stdout",
          "text": [
            "Precisão: 0.8044692737430168\n"
          ]
        }
      ]
    }
  ]
}